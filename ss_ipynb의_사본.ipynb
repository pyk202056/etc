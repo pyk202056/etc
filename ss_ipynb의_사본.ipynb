{
  "nbformat": 4,
  "nbformat_minor": 0,
  "metadata": {
    "colab": {
      "name": "ss.ipynb의 사본",
      "provenance": [],
      "private_outputs": true,
      "toc_visible": true,
      "mount_file_id": "1sKyxX-iqH7YI7CsAPWa_PK5qhzRCJUDm",
      "authorship_tag": "ABX9TyOX+aX0YgnNB7lBV8fISbSy",
      "include_colab_link": true
    },
    "kernelspec": {
      "name": "python3",
      "display_name": "Python 3"
    }
  },
  "cells": [
    {
      "cell_type": "markdown",
      "metadata": {
        "id": "view-in-github",
        "colab_type": "text"
      },
      "source": [
        "<a href=\"https://colab.research.google.com/github/pykwon/etc/blob/master/ss_ipynb%EC%9D%98_%EC%82%AC%EB%B3%B8.ipynb\" target=\"_parent\"><img src=\"https://colab.research.google.com/assets/colab-badge.svg\" alt=\"Open In Colab\"/></a>"
      ]
    },
    {
      "cell_type": "code",
      "metadata": {
        "id": "cU2qt3ekX_Q8",
        "colab_type": "code",
        "colab": {}
      },
      "source": [
        "with open('hanok.txt') as f:\n",
        "    lines = f.readlines()\n",
        "print(lines)"
      ],
      "execution_count": null,
      "outputs": []
    },
    {
      "cell_type": "code",
      "metadata": {
        "id": "irT4hGGDYBDE",
        "colab_type": "code",
        "colab": {}
      },
      "source": [
        "from google.colab import files\n",
        "up = files.upload()"
      ],
      "execution_count": null,
      "outputs": []
    },
    {
      "cell_type": "code",
      "metadata": {
        "id": "keSpUqGLZeHG",
        "colab_type": "code",
        "colab": {}
      },
      "source": [
        "# 방금 업로드한 파일 크기 출력해 보기\n",
        "for fn in up.keys():\n",
        "\tprint( 'User uploaded file \"{name}\" with length {length} bytes'.format( name=fn, length=len( up[fn] ) ) )\n"
      ],
      "execution_count": null,
      "outputs": []
    }
  ]
}